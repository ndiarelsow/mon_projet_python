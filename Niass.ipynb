{
#yasss
 "cells": [
  {
   "cell_type": "code",
   "execution_count": 2,
   "id": "71dcc13f",
   "metadata": {},
   "outputs": [
    {
     "name": "stdout",
     "output_type": "stream",
     "text": [
      "Donnez votre depart : grand mbao\n",
      "Donnez votre destination : castor\n",
      "La somme que vous donnez: 1000\n",
      "       ---------------\n",
      "Trajet: grand mbao --> castor\n",
      "Montant donné: 1000 FCFA\n",
      "Prix du ticket: 350 FCFA\n",
      "votre monnaie: 650 FCFA\n",
      "Date: 05-07-2022 18:31:01\n"
     ]
    }
   ],
   "source": [
    "#\n",
    "\n",
    "import time\n",
    "dat=time.strftime('%d-%m-%Y %H:%M:%S', time.localtime())\n",
    "\n",
    "listedestination=[\"rufisque\",\"zac mbao\",\"grand mbao\",\"keur mbaye fall\",\"keur massar\",\"petit mbao\",\"fass mbao\",\"sicap mbao\",\n",
    "                  \"diamaguene\",\"diaksao\",\"thiaroye\",\"sips\",\"pikine\",\"camberene\",\"citee des eaux\",\"castor\",\"liberte 5\"]\n",
    "s1=[\"rufisque\",\"zac mbao\",\"grand mbao\",\"keur mbaye fall\",\"keur massar\"]\n",
    "s2=[\"petit mbao\",\"fass mbao\",\"sicap mbao\"]\n",
    "s3=[\"diamaguene\",\"diaksao\",\"thiaroye\"]\n",
    "s4=[\"pikine\",\"sips\"]\n",
    "s5=[\"camberene\"]\n",
    "s6=[\"citee des eaux\",\"castor\",\"liberte 5\"]\n",
    "\n",
    "dep = str(input(\"Donnez votre depart : \"))\n",
    "dep=dep.lower()\n",
    "if dep in listedestination:\n",
    "\n",
    "    dest = str(input(\"Donnez votre destination : \"))\n",
    "    dest=dest.lower()\n",
    "    if dest in listedestination:\n",
    "        if dep in s1 and dest in s1 or dep in s2 and dest in s2 or dep in s3 and dest in s3 or dep in s4 and dest in s4 or dep in s5 and dest in s5 or dep in s6 and dest in s6:\n",
    "            prix=100\n",
    "            s=1\n",
    "        elif dep in s1 and dest in s2 or dep in s2 and dest in s3 or dep in s3 and dest in s4 or dep in s4 and dest in s5 or dep in s5 and dest in s6 or dep in s6 and dest in s5 or dep in s5 and dest in s4 or dep in s4 and dest in s3 or dep in s3 and dest in s2 or dep in s2 and dest in s1:\n",
    "            prix=150\n",
    "            s=2\n",
    "        if dep in s1 and dest in s3 or dep in s2 and dest in s4 or dep in s3 and dest in s5 or dep in s4 and dest in s6 or dep in s6 and dest in s4 or dep in s5 and dest in s3 or dep in s4 and dest in s2 or dep in s3 and dest in s1:\n",
    "            prix=200\n",
    "            s=3\n",
    "        elif dep in s1 and dest in s4 or dep in s2 and dest in s5 or dep in s3 and dest in s6 or dep in s6 and dest in s3 or dep in s5 and dest in s2 or dep in s4 and dest in s1:\n",
    "            prix=250\n",
    "            s=4\n",
    "        if dep in s1 and dest in s5 or dep in s2 and dest in s6 or dep in s6 and dest in s2 or dep in s5 and dest in s1:\n",
    "            prix=300\n",
    "            s=5\n",
    "        elif dep in s1 and dest in s6 or dep in s6 and dest in s1:\n",
    "            prix=350\n",
    "            s=6\n",
    "        somme = int(input(\"La somme que vous donnez: \"))\n",
    "        print('       ---------------')\n",
    "        monnaie=somme-prix\n",
    "        print('Trajet:',dep,'-->',dest)\n",
    "        print('Montant donné:',somme,'FCFA')\n",
    "        print('Prix du ticket:',prix,'FCFA')\n",
    "        print('votre monnaie:',monnaie,'FCFA')\n",
    "        print('Date:',dat)\n",
    "    else:\n",
    "        print('destination inccorrect')\n",
    "else:\n",
    "    print('depart inccorrect')"
   ]
  }
 ],
 "metadata": {
  "kernelspec": {
   "display_name": "Python 3 (ipykernel)",
   "language": "python",
   "name": "python3"
  },
  "language_info": {
   "codemirror_mode": {
    "name": "ipython",
    "version": 3
   },
   "file_extension": ".py",
   "mimetype": "text/x-python",
   "name": "python",
   "nbconvert_exporter": "python",
   "pygments_lexer": "ipython3",
   "version": "3.9.7"
  }
 },
 "nbformat": 4,
 "nbformat_minor": 5
}
